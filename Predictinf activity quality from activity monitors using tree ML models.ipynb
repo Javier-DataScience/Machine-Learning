{
 "cells": [
  {
   "cell_type": "markdown",
   "metadata": {},
   "source": [
    "# Human Activity Recognition"
   ]
  },
  {
   "cell_type": "markdown",
   "metadata": {},
   "source": [
    "# Prediction Assignment Writeup"
   ]
  },
  {
   "cell_type": "markdown",
   "metadata": {},
   "source": [
    "## Background\n",
    "\n",
    "Using devices such as Jawbone Up, Nike FuelBand, and Fitbit it is now possible to collect a large amount of data about personal activity relatively inexpensively. These type of devices are part of the quantified self movement – a group of enthusiasts who take measurements about themselves regularly to improve their health, to find patterns in their behavior, or because they are tech geeks. One thing that people regularly do is quantify how much of a particular activity they do, but they rarely quantify how well they do it. In this project, your goal will be to use data from accelerometers on the belt, forearm, arm, and dumbell of 6 participants. They were asked to perform barbell lifts correctly and incorrectly in 5 different ways. More information is available from the website here: http://web.archive.org/web/20161224072740/http:/groupware.les.inf.puc-rio.br/har (see the section on the Weight Lifting Exercise Dataset)."
   ]
  },
  {
   "cell_type": "markdown",
   "metadata": {},
   "source": [
    "# Goal\n",
    "The goal of your project is to predict the manner in which they did the exercise. This is the \"classe\" variable in the training set. You may use any of the other variables to predict with. You should create a report describing how you built your model, how you used cross validation, what you think the expected out of sample error is, and why you made the choices you did. You will also use your prediction model to predict 20 different test cases."
   ]
  },
  {
   "cell_type": "markdown",
   "metadata": {},
   "source": [
    "# Intall Packages"
   ]
  },
  {
   "cell_type": "code",
   "execution_count": 1,
   "metadata": {},
   "outputs": [],
   "source": [
    "options(warn=-1)"
   ]
  },
  {
   "cell_type": "code",
   "execution_count": 2,
   "metadata": {},
   "outputs": [
    {
     "name": "stdout",
     "output_type": "stream",
     "text": [
      "package 'caret' successfully unpacked and MD5 sums checked\n",
      "\n",
      "The downloaded binary packages are in\n",
      "\tC:\\Users\\PAVILION 2\\AppData\\Local\\Temp\\RtmpCgPVBS\\downloaded_packages\n",
      "package 'rpart' successfully unpacked and MD5 sums checked\n",
      "\n",
      "The downloaded binary packages are in\n",
      "\tC:\\Users\\PAVILION 2\\AppData\\Local\\Temp\\RtmpCgPVBS\\downloaded_packages\n",
      "package 'rpart.plot' successfully unpacked and MD5 sums checked\n",
      "\n",
      "The downloaded binary packages are in\n",
      "\tC:\\Users\\PAVILION 2\\AppData\\Local\\Temp\\RtmpCgPVBS\\downloaded_packages\n",
      "package 'ipred' successfully unpacked and MD5 sums checked\n",
      "\n",
      "The downloaded binary packages are in\n",
      "\tC:\\Users\\PAVILION 2\\AppData\\Local\\Temp\\RtmpCgPVBS\\downloaded_packages\n",
      "package 'randomForest' successfully unpacked and MD5 sums checked\n",
      "\n",
      "The downloaded binary packages are in\n",
      "\tC:\\Users\\PAVILION 2\\AppData\\Local\\Temp\\RtmpCgPVBS\\downloaded_packages\n"
     ]
    }
   ],
   "source": [
    "install.packages('caret')\n",
    "install.packages('rpart')\n",
    "install.packages('rpart.plot')\n",
    "install.packages(\"ipred\")\n",
    "install.packages(\"randomForest\")"
   ]
  },
  {
   "cell_type": "code",
   "execution_count": 5,
   "metadata": {},
   "outputs": [],
   "source": [
    "library(caret)\n",
    "library(rpart)\n",
    "library(rpart.plot)\n",
    "library(ipred)\n",
    "library(randomForest)"
   ]
  },
  {
   "cell_type": "markdown",
   "metadata": {},
   "source": [
    "# Loading th data"
   ]
  },
  {
   "cell_type": "code",
   "execution_count": 20,
   "metadata": {},
   "outputs": [],
   "source": [
    "training  <- read.csv('https://d396qusza40orc.cloudfront.net/predmachlearn/pml-training.csv')\n",
    "testing <- read.csv('https://d396qusza40orc.cloudfront.net/predmachlearn/pml-testing.csv')"
   ]
  },
  {
   "cell_type": "code",
   "execution_count": 21,
   "metadata": {},
   "outputs": [
    {
     "data": {
      "text/html": [
       "<table>\n",
       "<caption>A data.frame: 3 × 160</caption>\n",
       "<thead>\n",
       "\t<tr><th></th><th scope=col>X</th><th scope=col>user_name</th><th scope=col>raw_timestamp_part_1</th><th scope=col>raw_timestamp_part_2</th><th scope=col>cvtd_timestamp</th><th scope=col>new_window</th><th scope=col>num_window</th><th scope=col>roll_belt</th><th scope=col>pitch_belt</th><th scope=col>yaw_belt</th><th scope=col>...</th><th scope=col>gyros_forearm_x</th><th scope=col>gyros_forearm_y</th><th scope=col>gyros_forearm_z</th><th scope=col>accel_forearm_x</th><th scope=col>accel_forearm_y</th><th scope=col>accel_forearm_z</th><th scope=col>magnet_forearm_x</th><th scope=col>magnet_forearm_y</th><th scope=col>magnet_forearm_z</th><th scope=col>classe</th></tr>\n",
       "\t<tr><th></th><th scope=col>&lt;int&gt;</th><th scope=col>&lt;fct&gt;</th><th scope=col>&lt;int&gt;</th><th scope=col>&lt;int&gt;</th><th scope=col>&lt;fct&gt;</th><th scope=col>&lt;fct&gt;</th><th scope=col>&lt;int&gt;</th><th scope=col>&lt;dbl&gt;</th><th scope=col>&lt;dbl&gt;</th><th scope=col>&lt;dbl&gt;</th><th scope=col>...</th><th scope=col>&lt;dbl&gt;</th><th scope=col>&lt;dbl&gt;</th><th scope=col>&lt;dbl&gt;</th><th scope=col>&lt;int&gt;</th><th scope=col>&lt;int&gt;</th><th scope=col>&lt;int&gt;</th><th scope=col>&lt;int&gt;</th><th scope=col>&lt;dbl&gt;</th><th scope=col>&lt;dbl&gt;</th><th scope=col>&lt;fct&gt;</th></tr>\n",
       "</thead>\n",
       "<tbody>\n",
       "\t<tr><th scope=row>1</th><td>1</td><td>carlitos</td><td>1323084231</td><td>788290</td><td>05/12/2011 11:23</td><td>no</td><td>11</td><td>1.41</td><td>8.07</td><td>-94.4</td><td>...</td><td>0.03</td><td> 0.00</td><td>-0.02</td><td>192</td><td>203</td><td>-215</td><td>-17</td><td>654</td><td>476</td><td>A</td></tr>\n",
       "\t<tr><th scope=row>2</th><td>2</td><td>carlitos</td><td>1323084231</td><td>808298</td><td>05/12/2011 11:23</td><td>no</td><td>11</td><td>1.41</td><td>8.07</td><td>-94.4</td><td>...</td><td>0.02</td><td> 0.00</td><td>-0.02</td><td>192</td><td>203</td><td>-216</td><td>-18</td><td>661</td><td>473</td><td>A</td></tr>\n",
       "\t<tr><th scope=row>3</th><td>3</td><td>carlitos</td><td>1323084231</td><td>820366</td><td>05/12/2011 11:23</td><td>no</td><td>11</td><td>1.42</td><td>8.07</td><td>-94.4</td><td>...</td><td>0.03</td><td>-0.02</td><td> 0.00</td><td>196</td><td>204</td><td>-213</td><td>-18</td><td>658</td><td>469</td><td>A</td></tr>\n",
       "</tbody>\n",
       "</table>\n"
      ],
      "text/latex": [
       "A data.frame: 3 × 160\n",
       "\\begin{tabular}{r|lllllllllllllllllllll}\n",
       "  & X & user\\_name & raw\\_timestamp\\_part\\_1 & raw\\_timestamp\\_part\\_2 & cvtd\\_timestamp & new\\_window & num\\_window & roll\\_belt & pitch\\_belt & yaw\\_belt & ... & gyros\\_forearm\\_x & gyros\\_forearm\\_y & gyros\\_forearm\\_z & accel\\_forearm\\_x & accel\\_forearm\\_y & accel\\_forearm\\_z & magnet\\_forearm\\_x & magnet\\_forearm\\_y & magnet\\_forearm\\_z & classe\\\\\n",
       "  & <int> & <fct> & <int> & <int> & <fct> & <fct> & <int> & <dbl> & <dbl> & <dbl> & ... & <dbl> & <dbl> & <dbl> & <int> & <int> & <int> & <int> & <dbl> & <dbl> & <fct>\\\\\n",
       "\\hline\n",
       "\t1 & 1 & carlitos & 1323084231 & 788290 & 05/12/2011 11:23 & no & 11 & 1.41 & 8.07 & -94.4 & ... & 0.03 &  0.00 & -0.02 & 192 & 203 & -215 & -17 & 654 & 476 & A\\\\\n",
       "\t2 & 2 & carlitos & 1323084231 & 808298 & 05/12/2011 11:23 & no & 11 & 1.41 & 8.07 & -94.4 & ... & 0.02 &  0.00 & -0.02 & 192 & 203 & -216 & -18 & 661 & 473 & A\\\\\n",
       "\t3 & 3 & carlitos & 1323084231 & 820366 & 05/12/2011 11:23 & no & 11 & 1.42 & 8.07 & -94.4 & ... & 0.03 & -0.02 &  0.00 & 196 & 204 & -213 & -18 & 658 & 469 & A\\\\\n",
       "\\end{tabular}\n"
      ],
      "text/markdown": [
       "\n",
       "A data.frame: 3 × 160\n",
       "\n",
       "| <!--/--> | X &lt;int&gt; | user_name &lt;fct&gt; | raw_timestamp_part_1 &lt;int&gt; | raw_timestamp_part_2 &lt;int&gt; | cvtd_timestamp &lt;fct&gt; | new_window &lt;fct&gt; | num_window &lt;int&gt; | roll_belt &lt;dbl&gt; | pitch_belt &lt;dbl&gt; | yaw_belt &lt;dbl&gt; | ... ... | gyros_forearm_x &lt;dbl&gt; | gyros_forearm_y &lt;dbl&gt; | gyros_forearm_z &lt;dbl&gt; | accel_forearm_x &lt;int&gt; | accel_forearm_y &lt;int&gt; | accel_forearm_z &lt;int&gt; | magnet_forearm_x &lt;int&gt; | magnet_forearm_y &lt;dbl&gt; | magnet_forearm_z &lt;dbl&gt; | classe &lt;fct&gt; |\n",
       "|---|---|---|---|---|---|---|---|---|---|---|---|---|---|---|---|---|---|---|---|---|---|\n",
       "| 1 | 1 | carlitos | 1323084231 | 788290 | 05/12/2011 11:23 | no | 11 | 1.41 | 8.07 | -94.4 | ... | 0.03 |  0.00 | -0.02 | 192 | 203 | -215 | -17 | 654 | 476 | A |\n",
       "| 2 | 2 | carlitos | 1323084231 | 808298 | 05/12/2011 11:23 | no | 11 | 1.41 | 8.07 | -94.4 | ... | 0.02 |  0.00 | -0.02 | 192 | 203 | -216 | -18 | 661 | 473 | A |\n",
       "| 3 | 3 | carlitos | 1323084231 | 820366 | 05/12/2011 11:23 | no | 11 | 1.42 | 8.07 | -94.4 | ... | 0.03 | -0.02 |  0.00 | 196 | 204 | -213 | -18 | 658 | 469 | A |\n",
       "\n"
      ],
      "text/plain": [
       "  X user_name raw_timestamp_part_1 raw_timestamp_part_2 cvtd_timestamp  \n",
       "1 1 carlitos  1323084231           788290               05/12/2011 11:23\n",
       "2 2 carlitos  1323084231           808298               05/12/2011 11:23\n",
       "3 3 carlitos  1323084231           820366               05/12/2011 11:23\n",
       "  new_window num_window roll_belt pitch_belt yaw_belt ... gyros_forearm_x\n",
       "1 no         11         1.41      8.07       -94.4    ... 0.03           \n",
       "2 no         11         1.41      8.07       -94.4    ... 0.02           \n",
       "3 no         11         1.42      8.07       -94.4    ... 0.03           \n",
       "  gyros_forearm_y gyros_forearm_z accel_forearm_x accel_forearm_y\n",
       "1  0.00           -0.02           192             203            \n",
       "2  0.00           -0.02           192             203            \n",
       "3 -0.02            0.00           196             204            \n",
       "  accel_forearm_z magnet_forearm_x magnet_forearm_y magnet_forearm_z classe\n",
       "1 -215            -17              654              476              A     \n",
       "2 -216            -18              661              473              A     \n",
       "3 -213            -18              658              469              A     "
      ]
     },
     "metadata": {},
     "output_type": "display_data"
    }
   ],
   "source": [
    "head(training,3)"
   ]
  },
  {
   "cell_type": "code",
   "execution_count": 22,
   "metadata": {},
   "outputs": [
    {
     "data": {
      "text/html": [
       "<style>\n",
       ".list-inline {list-style: none; margin:0; padding: 0}\n",
       ".list-inline>li {display: inline-block}\n",
       ".list-inline>li:not(:last-child)::after {content: \"\\00b7\"; padding: 0 .5ex}\n",
       "</style>\n",
       "<ol class=list-inline><li>19622</li><li>160</li></ol>\n"
      ],
      "text/latex": [
       "\\begin{enumerate*}\n",
       "\\item 19622\n",
       "\\item 160\n",
       "\\end{enumerate*}\n"
      ],
      "text/markdown": [
       "1. 19622\n",
       "2. 160\n",
       "\n",
       "\n"
      ],
      "text/plain": [
       "[1] 19622   160"
      ]
     },
     "metadata": {},
     "output_type": "display_data"
    }
   ],
   "source": [
    "dim(training)"
   ]
  },
  {
   "cell_type": "code",
   "execution_count": 23,
   "metadata": {},
   "outputs": [
    {
     "data": {
      "text/html": [
       "<table>\n",
       "<caption>A data.frame: 3 × 160</caption>\n",
       "<thead>\n",
       "\t<tr><th></th><th scope=col>X</th><th scope=col>user_name</th><th scope=col>raw_timestamp_part_1</th><th scope=col>raw_timestamp_part_2</th><th scope=col>cvtd_timestamp</th><th scope=col>new_window</th><th scope=col>num_window</th><th scope=col>roll_belt</th><th scope=col>pitch_belt</th><th scope=col>yaw_belt</th><th scope=col>...</th><th scope=col>gyros_forearm_x</th><th scope=col>gyros_forearm_y</th><th scope=col>gyros_forearm_z</th><th scope=col>accel_forearm_x</th><th scope=col>accel_forearm_y</th><th scope=col>accel_forearm_z</th><th scope=col>magnet_forearm_x</th><th scope=col>magnet_forearm_y</th><th scope=col>magnet_forearm_z</th><th scope=col>problem_id</th></tr>\n",
       "\t<tr><th></th><th scope=col>&lt;int&gt;</th><th scope=col>&lt;fct&gt;</th><th scope=col>&lt;int&gt;</th><th scope=col>&lt;int&gt;</th><th scope=col>&lt;fct&gt;</th><th scope=col>&lt;fct&gt;</th><th scope=col>&lt;int&gt;</th><th scope=col>&lt;dbl&gt;</th><th scope=col>&lt;dbl&gt;</th><th scope=col>&lt;dbl&gt;</th><th scope=col>...</th><th scope=col>&lt;dbl&gt;</th><th scope=col>&lt;dbl&gt;</th><th scope=col>&lt;dbl&gt;</th><th scope=col>&lt;int&gt;</th><th scope=col>&lt;int&gt;</th><th scope=col>&lt;int&gt;</th><th scope=col>&lt;int&gt;</th><th scope=col>&lt;int&gt;</th><th scope=col>&lt;int&gt;</th><th scope=col>&lt;int&gt;</th></tr>\n",
       "</thead>\n",
       "<tbody>\n",
       "\t<tr><th scope=row>1</th><td>1</td><td>pedro </td><td>1323095002</td><td>868349</td><td>05/12/2011 14:23</td><td>no</td><td> 74</td><td>123.00</td><td>27.00</td><td> -4.75</td><td>...</td><td>0.74</td><td>-3.34</td><td>-0.59</td><td>-110</td><td>267</td><td>-149</td><td>-714</td><td>419</td><td>617</td><td>1</td></tr>\n",
       "\t<tr><th scope=row>2</th><td>2</td><td>jeremy</td><td>1322673067</td><td>778725</td><td>30/11/2011 17:11</td><td>no</td><td>431</td><td>  1.02</td><td> 4.87</td><td>-88.90</td><td>...</td><td>1.12</td><td>-2.78</td><td>-0.18</td><td> 212</td><td>297</td><td>-118</td><td>-237</td><td>791</td><td>873</td><td>2</td></tr>\n",
       "\t<tr><th scope=row>3</th><td>3</td><td>jeremy</td><td>1322673075</td><td>342967</td><td>30/11/2011 17:11</td><td>no</td><td>439</td><td>  0.87</td><td> 1.82</td><td>-88.50</td><td>...</td><td>0.18</td><td>-0.79</td><td> 0.28</td><td> 154</td><td>271</td><td>-129</td><td> -51</td><td>698</td><td>783</td><td>3</td></tr>\n",
       "</tbody>\n",
       "</table>\n"
      ],
      "text/latex": [
       "A data.frame: 3 × 160\n",
       "\\begin{tabular}{r|lllllllllllllllllllll}\n",
       "  & X & user\\_name & raw\\_timestamp\\_part\\_1 & raw\\_timestamp\\_part\\_2 & cvtd\\_timestamp & new\\_window & num\\_window & roll\\_belt & pitch\\_belt & yaw\\_belt & ... & gyros\\_forearm\\_x & gyros\\_forearm\\_y & gyros\\_forearm\\_z & accel\\_forearm\\_x & accel\\_forearm\\_y & accel\\_forearm\\_z & magnet\\_forearm\\_x & magnet\\_forearm\\_y & magnet\\_forearm\\_z & problem\\_id\\\\\n",
       "  & <int> & <fct> & <int> & <int> & <fct> & <fct> & <int> & <dbl> & <dbl> & <dbl> & ... & <dbl> & <dbl> & <dbl> & <int> & <int> & <int> & <int> & <int> & <int> & <int>\\\\\n",
       "\\hline\n",
       "\t1 & 1 & pedro  & 1323095002 & 868349 & 05/12/2011 14:23 & no &  74 & 123.00 & 27.00 &  -4.75 & ... & 0.74 & -3.34 & -0.59 & -110 & 267 & -149 & -714 & 419 & 617 & 1\\\\\n",
       "\t2 & 2 & jeremy & 1322673067 & 778725 & 30/11/2011 17:11 & no & 431 &   1.02 &  4.87 & -88.90 & ... & 1.12 & -2.78 & -0.18 &  212 & 297 & -118 & -237 & 791 & 873 & 2\\\\\n",
       "\t3 & 3 & jeremy & 1322673075 & 342967 & 30/11/2011 17:11 & no & 439 &   0.87 &  1.82 & -88.50 & ... & 0.18 & -0.79 &  0.28 &  154 & 271 & -129 &  -51 & 698 & 783 & 3\\\\\n",
       "\\end{tabular}\n"
      ],
      "text/markdown": [
       "\n",
       "A data.frame: 3 × 160\n",
       "\n",
       "| <!--/--> | X &lt;int&gt; | user_name &lt;fct&gt; | raw_timestamp_part_1 &lt;int&gt; | raw_timestamp_part_2 &lt;int&gt; | cvtd_timestamp &lt;fct&gt; | new_window &lt;fct&gt; | num_window &lt;int&gt; | roll_belt &lt;dbl&gt; | pitch_belt &lt;dbl&gt; | yaw_belt &lt;dbl&gt; | ... ... | gyros_forearm_x &lt;dbl&gt; | gyros_forearm_y &lt;dbl&gt; | gyros_forearm_z &lt;dbl&gt; | accel_forearm_x &lt;int&gt; | accel_forearm_y &lt;int&gt; | accel_forearm_z &lt;int&gt; | magnet_forearm_x &lt;int&gt; | magnet_forearm_y &lt;int&gt; | magnet_forearm_z &lt;int&gt; | problem_id &lt;int&gt; |\n",
       "|---|---|---|---|---|---|---|---|---|---|---|---|---|---|---|---|---|---|---|---|---|---|\n",
       "| 1 | 1 | pedro  | 1323095002 | 868349 | 05/12/2011 14:23 | no |  74 | 123.00 | 27.00 |  -4.75 | ... | 0.74 | -3.34 | -0.59 | -110 | 267 | -149 | -714 | 419 | 617 | 1 |\n",
       "| 2 | 2 | jeremy | 1322673067 | 778725 | 30/11/2011 17:11 | no | 431 |   1.02 |  4.87 | -88.90 | ... | 1.12 | -2.78 | -0.18 |  212 | 297 | -118 | -237 | 791 | 873 | 2 |\n",
       "| 3 | 3 | jeremy | 1322673075 | 342967 | 30/11/2011 17:11 | no | 439 |   0.87 |  1.82 | -88.50 | ... | 0.18 | -0.79 |  0.28 |  154 | 271 | -129 |  -51 | 698 | 783 | 3 |\n",
       "\n"
      ],
      "text/plain": [
       "  X user_name raw_timestamp_part_1 raw_timestamp_part_2 cvtd_timestamp  \n",
       "1 1 pedro     1323095002           868349               05/12/2011 14:23\n",
       "2 2 jeremy    1322673067           778725               30/11/2011 17:11\n",
       "3 3 jeremy    1322673075           342967               30/11/2011 17:11\n",
       "  new_window num_window roll_belt pitch_belt yaw_belt ... gyros_forearm_x\n",
       "1 no          74        123.00    27.00       -4.75   ... 0.74           \n",
       "2 no         431          1.02     4.87      -88.90   ... 1.12           \n",
       "3 no         439          0.87     1.82      -88.50   ... 0.18           \n",
       "  gyros_forearm_y gyros_forearm_z accel_forearm_x accel_forearm_y\n",
       "1 -3.34           -0.59           -110            267            \n",
       "2 -2.78           -0.18            212            297            \n",
       "3 -0.79            0.28            154            271            \n",
       "  accel_forearm_z magnet_forearm_x magnet_forearm_y magnet_forearm_z problem_id\n",
       "1 -149            -714             419              617              1         \n",
       "2 -118            -237             791              873              2         \n",
       "3 -129             -51             698              783              3         "
      ]
     },
     "metadata": {},
     "output_type": "display_data"
    }
   ],
   "source": [
    "head(testing,3)"
   ]
  },
  {
   "cell_type": "code",
   "execution_count": 24,
   "metadata": {},
   "outputs": [
    {
     "data": {
      "text/html": [
       "<style>\n",
       ".list-inline {list-style: none; margin:0; padding: 0}\n",
       ".list-inline>li {display: inline-block}\n",
       ".list-inline>li:not(:last-child)::after {content: \"\\00b7\"; padding: 0 .5ex}\n",
       "</style>\n",
       "<ol class=list-inline><li>20</li><li>160</li></ol>\n"
      ],
      "text/latex": [
       "\\begin{enumerate*}\n",
       "\\item 20\n",
       "\\item 160\n",
       "\\end{enumerate*}\n"
      ],
      "text/markdown": [
       "1. 20\n",
       "2. 160\n",
       "\n",
       "\n"
      ],
      "text/plain": [
       "[1]  20 160"
      ]
     },
     "metadata": {},
     "output_type": "display_data"
    }
   ],
   "source": [
    "dim(testing)"
   ]
  },
  {
   "cell_type": "markdown",
   "metadata": {},
   "source": [
    "# Cleaning the data"
   ]
  },
  {
   "cell_type": "markdown",
   "metadata": {},
   "source": [
    "### Cleaning the training data"
   ]
  },
  {
   "cell_type": "code",
   "execution_count": 25,
   "metadata": {},
   "outputs": [],
   "source": [
    "# remove variables with nearly zero variance\n",
    "nzv <- nearZeroVar(training)\n",
    "training <- training[, -nzv]\n",
    "\n",
    "# remove variables that are almost always NA\n",
    "remove_NA <- sapply(training, function(x) mean(is.na(x))) > 0.95\n",
    "training <- training[, remove_NA==F]\n",
    "\n",
    "# remove first 5 useless variables \n",
    "training <- training[, -(1:5)]"
   ]
  },
  {
   "cell_type": "code",
   "execution_count": 27,
   "metadata": {
    "scrolled": true
   },
   "outputs": [
    {
     "data": {
      "text/html": [
       "<style>\n",
       ".list-inline {list-style: none; margin:0; padding: 0}\n",
       ".list-inline>li {display: inline-block}\n",
       ".list-inline>li:not(:last-child)::after {content: \"\\00b7\"; padding: 0 .5ex}\n",
       "</style>\n",
       "<ol class=list-inline><li>19622</li><li>54</li></ol>\n"
      ],
      "text/latex": [
       "\\begin{enumerate*}\n",
       "\\item 19622\n",
       "\\item 54\n",
       "\\end{enumerate*}\n"
      ],
      "text/markdown": [
       "1. 19622\n",
       "2. 54\n",
       "\n",
       "\n"
      ],
      "text/plain": [
       "[1] 19622    54"
      ]
     },
     "metadata": {},
     "output_type": "display_data"
    }
   ],
   "source": [
    "dim(training)"
   ]
  },
  {
   "cell_type": "markdown",
   "metadata": {},
   "source": [
    "### Cleaning the testing data"
   ]
  },
  {
   "cell_type": "code",
   "execution_count": 28,
   "metadata": {},
   "outputs": [],
   "source": [
    "# remove variables with nearly zero variance\n",
    "nzv <- nearZeroVar(testing)\n",
    "testing <- testing[, -nzv]\n",
    "\n",
    "# remove variables that are almost always NA\n",
    "remove_NA <- sapply(testing, function(x) mean(is.na(x))) > 0.95\n",
    "testing <- testing[, remove_NA==F]\n",
    "\n",
    "# remove first 5 useless variables \n",
    "testing <- testing[, -(1:5)]"
   ]
  },
  {
   "cell_type": "code",
   "execution_count": 29,
   "metadata": {},
   "outputs": [
    {
     "data": {
      "text/html": [
       "<style>\n",
       ".list-inline {list-style: none; margin:0; padding: 0}\n",
       ".list-inline>li {display: inline-block}\n",
       ".list-inline>li:not(:last-child)::after {content: \"\\00b7\"; padding: 0 .5ex}\n",
       "</style>\n",
       "<ol class=list-inline><li>20</li><li>54</li></ol>\n"
      ],
      "text/latex": [
       "\\begin{enumerate*}\n",
       "\\item 20\n",
       "\\item 54\n",
       "\\end{enumerate*}\n"
      ],
      "text/markdown": [
       "1. 20\n",
       "2. 54\n",
       "\n",
       "\n"
      ],
      "text/plain": [
       "[1] 20 54"
      ]
     },
     "metadata": {},
     "output_type": "display_data"
    }
   ],
   "source": [
    "dim(testing)"
   ]
  },
  {
   "cell_type": "markdown",
   "metadata": {},
   "source": [
    "# Partitioning Training Data"
   ]
  },
  {
   "cell_type": "code",
   "execution_count": 30,
   "metadata": {},
   "outputs": [],
   "source": [
    "inTrain <- createDataPartition(training$classe, p=0.7, list=FALSE)\n",
    "myTraining <- training[inTrain, ]\n",
    "myTesting <- training[-inTrain, ]"
   ]
  },
  {
   "cell_type": "code",
   "execution_count": 31,
   "metadata": {},
   "outputs": [
    {
     "data": {
      "text/html": [
       "<style>\n",
       ".list-inline {list-style: none; margin:0; padding: 0}\n",
       ".list-inline>li {display: inline-block}\n",
       ".list-inline>li:not(:last-child)::after {content: \"\\00b7\"; padding: 0 .5ex}\n",
       "</style>\n",
       "<ol class=list-inline><li>13737</li><li>54</li></ol>\n"
      ],
      "text/latex": [
       "\\begin{enumerate*}\n",
       "\\item 13737\n",
       "\\item 54\n",
       "\\end{enumerate*}\n"
      ],
      "text/markdown": [
       "1. 13737\n",
       "2. 54\n",
       "\n",
       "\n"
      ],
      "text/plain": [
       "[1] 13737    54"
      ]
     },
     "metadata": {},
     "output_type": "display_data"
    },
    {
     "data": {
      "text/html": [
       "<style>\n",
       ".list-inline {list-style: none; margin:0; padding: 0}\n",
       ".list-inline>li {display: inline-block}\n",
       ".list-inline>li:not(:last-child)::after {content: \"\\00b7\"; padding: 0 .5ex}\n",
       "</style>\n",
       "<ol class=list-inline><li>5885</li><li>54</li></ol>\n"
      ],
      "text/latex": [
       "\\begin{enumerate*}\n",
       "\\item 5885\n",
       "\\item 54\n",
       "\\end{enumerate*}\n"
      ],
      "text/markdown": [
       "1. 5885\n",
       "2. 54\n",
       "\n",
       "\n"
      ],
      "text/plain": [
       "[1] 5885   54"
      ]
     },
     "metadata": {},
     "output_type": "display_data"
    }
   ],
   "source": [
    "dim(myTraining)\n",
    "dim(myTesting)"
   ]
  },
  {
   "cell_type": "markdown",
   "metadata": {},
   "source": [
    "# Creating the Models"
   ]
  },
  {
   "cell_type": "markdown",
   "metadata": {},
   "source": [
    "## Tree Model"
   ]
  },
  {
   "cell_type": "code",
   "execution_count": 32,
   "metadata": {},
   "outputs": [],
   "source": [
    "# Create the tree model\n",
    "dt <- rpart(formula = classe ~ ., \n",
    "                        data = myTraining, \n",
    "                        method = \"class\")"
   ]
  },
  {
   "cell_type": "code",
   "execution_count": 33,
   "metadata": {},
   "outputs": [
    {
     "data": {
      "text/plain": [
       "Confusion Matrix and Statistics\n",
       "\n",
       "          Reference\n",
       "Prediction    A    B    C    D    E\n",
       "         A 1490  277   38  111   62\n",
       "         B   37  608   65   35   86\n",
       "         C   21   84  835   78   56\n",
       "         D   96  134   66  675  147\n",
       "         E   30   36   22   65  731\n",
       "\n",
       "Overall Statistics\n",
       "                                          \n",
       "               Accuracy : 0.7373          \n",
       "                 95% CI : (0.7259, 0.7485)\n",
       "    No Information Rate : 0.2845          \n",
       "    P-Value [Acc > NIR] : < 2.2e-16       \n",
       "                                          \n",
       "                  Kappa : 0.666           \n",
       "                                          \n",
       " Mcnemar's Test P-Value : < 2.2e-16       \n",
       "\n",
       "Statistics by Class:\n",
       "\n",
       "                     Class: A Class: B Class: C Class: D Class: E\n",
       "Sensitivity            0.8901   0.5338   0.8138   0.7002   0.6756\n",
       "Specificity            0.8841   0.9530   0.9508   0.9100   0.9681\n",
       "Pos Pred Value         0.7533   0.7316   0.7775   0.6038   0.8269\n",
       "Neg Pred Value         0.9529   0.8949   0.9603   0.9394   0.9298\n",
       "Prevalence             0.2845   0.1935   0.1743   0.1638   0.1839\n",
       "Detection Rate         0.2532   0.1033   0.1419   0.1147   0.1242\n",
       "Detection Prevalence   0.3361   0.1412   0.1825   0.1900   0.1502\n",
       "Balanced Accuracy      0.8871   0.7434   0.8823   0.8051   0.8219"
      ]
     },
     "metadata": {},
     "output_type": "display_data"
    }
   ],
   "source": [
    "# Generate predicted classes using the dt model\n",
    "dt_prediction <- predict(object = dt,  \n",
    "                          newdata = myTesting,   \n",
    "                          type = \"class\",\n",
    "                          parms = list(split = \"gini\"))  \n",
    "# Calculate the confusion matrix for the test set\n",
    "confusionMatrix(data =dt_prediction ,       \n",
    "                  reference = myTesting$classe) "
   ]
  },
  {
   "cell_type": "code",
   "execution_count": 34,
   "metadata": {},
   "outputs": [
    {
     "name": "stdout",
     "output_type": "stream",
     "text": [
      "\n",
      "Bagging classification trees with 25 bootstrap replications \n",
      "\n",
      "Call: bagging.data.frame(formula = classe ~ ., data = myTraining, coob = TRUE)\n",
      "\n",
      "Out-of-bag estimate of misclassification error:  0.0059 \n",
      "\n"
     ]
    }
   ],
   "source": [
    "# Create the Bagging model\n",
    "b_model <- bagging(formula = classe ~ ., \n",
    "                        data = myTraining,\n",
    "                        coob = TRUE)\n",
    "\n",
    "# Print the model\n",
    "print(b_model)"
   ]
  },
  {
   "cell_type": "code",
   "execution_count": 35,
   "metadata": {},
   "outputs": [
    {
     "data": {
      "text/plain": [
       "Confusion Matrix and Statistics\n",
       "\n",
       "          Reference\n",
       "Prediction    A    B    C    D    E\n",
       "         A 1673   13    0    0    0\n",
       "         B    1 1122    0    0    0\n",
       "         C    0    3 1026    0    0\n",
       "         D    0    1    0  962    1\n",
       "         E    0    0    0    2 1081\n",
       "\n",
       "Overall Statistics\n",
       "                                          \n",
       "               Accuracy : 0.9964          \n",
       "                 95% CI : (0.9946, 0.9978)\n",
       "    No Information Rate : 0.2845          \n",
       "    P-Value [Acc > NIR] : < 2.2e-16       \n",
       "                                          \n",
       "                  Kappa : 0.9955          \n",
       "                                          \n",
       " Mcnemar's Test P-Value : NA              \n",
       "\n",
       "Statistics by Class:\n",
       "\n",
       "                     Class: A Class: B Class: C Class: D Class: E\n",
       "Sensitivity            0.9994   0.9851   1.0000   0.9979   0.9991\n",
       "Specificity            0.9969   0.9998   0.9994   0.9996   0.9996\n",
       "Pos Pred Value         0.9923   0.9991   0.9971   0.9979   0.9982\n",
       "Neg Pred Value         0.9998   0.9964   1.0000   0.9996   0.9998\n",
       "Prevalence             0.2845   0.1935   0.1743   0.1638   0.1839\n",
       "Detection Rate         0.2843   0.1907   0.1743   0.1635   0.1837\n",
       "Detection Prevalence   0.2865   0.1908   0.1749   0.1638   0.1840\n",
       "Balanced Accuracy      0.9982   0.9924   0.9997   0.9988   0.9993"
      ]
     },
     "metadata": {},
     "output_type": "display_data"
    }
   ],
   "source": [
    "# Generate predicted classes using the model object\n",
    "b_prediction <- predict(object = b_model,    \n",
    "                              newdata = myTesting,  \n",
    "                            type = \"class\")  # return classification labels\n",
    "\n",
    "# Calculate the confusion matrix for the test set\n",
    "confusionMatrix(data = b_prediction ,       \n",
    "                  reference = myTesting$classe) "
   ]
  },
  {
   "cell_type": "code",
   "execution_count": 36,
   "metadata": {},
   "outputs": [
    {
     "name": "stdout",
     "output_type": "stream",
     "text": [
      "\n",
      "Call:\n",
      " randomForest(formula = classe ~ ., data = myTraining) \n",
      "               Type of random forest: classification\n",
      "                     Number of trees: 500\n",
      "No. of variables tried at each split: 7\n",
      "\n",
      "        OOB estimate of  error rate: 0.2%\n",
      "Confusion matrix:\n",
      "     A    B    C    D    E  class.error\n",
      "A 3905    0    0    0    1 0.0002560164\n",
      "B    4 2654    0    0    0 0.0015048909\n",
      "C    0    6 2390    0    0 0.0025041736\n",
      "D    0    0   12 2240    0 0.0053285968\n",
      "E    0    0    0    4 2521 0.0015841584\n"
     ]
    }
   ],
   "source": [
    "#Create the random forest model\n",
    "rf_model <- randomForest(formula = classe ~ ., \n",
    "                               data = myTraining)\n",
    "# Print the model output\n",
    "print(rf_model)"
   ]
  },
  {
   "cell_type": "code",
   "execution_count": 37,
   "metadata": {
    "scrolled": true
   },
   "outputs": [
    {
     "data": {
      "text/plain": [
       "Confusion Matrix and Statistics\n",
       "\n",
       "          Reference\n",
       "Prediction    A    B    C    D    E\n",
       "         A 1674    5    0    0    0\n",
       "         B    0 1134    0    0    0\n",
       "         C    0    0 1026    5    0\n",
       "         D    0    0    0  958    2\n",
       "         E    0    0    0    1 1080\n",
       "\n",
       "Overall Statistics\n",
       "                                          \n",
       "               Accuracy : 0.9978          \n",
       "                 95% CI : (0.9962, 0.9988)\n",
       "    No Information Rate : 0.2845          \n",
       "    P-Value [Acc > NIR] : < 2.2e-16       \n",
       "                                          \n",
       "                  Kappa : 0.9972          \n",
       "                                          \n",
       " Mcnemar's Test P-Value : NA              \n",
       "\n",
       "Statistics by Class:\n",
       "\n",
       "                     Class: A Class: B Class: C Class: D Class: E\n",
       "Sensitivity            1.0000   0.9956   1.0000   0.9938   0.9982\n",
       "Specificity            0.9988   1.0000   0.9990   0.9996   0.9998\n",
       "Pos Pred Value         0.9970   1.0000   0.9952   0.9979   0.9991\n",
       "Neg Pred Value         1.0000   0.9989   1.0000   0.9988   0.9996\n",
       "Prevalence             0.2845   0.1935   0.1743   0.1638   0.1839\n",
       "Detection Rate         0.2845   0.1927   0.1743   0.1628   0.1835\n",
       "Detection Prevalence   0.2853   0.1927   0.1752   0.1631   0.1837\n",
       "Balanced Accuracy      0.9994   0.9978   0.9995   0.9967   0.9990"
      ]
     },
     "metadata": {},
     "output_type": "display_data"
    }
   ],
   "source": [
    "# Generate predicted classes using the random forest\n",
    "rf_prediction <- predict(object = rf_model,   # model object \n",
    "                              newdata = myTesting,  # test dataset\n",
    "                              type = \"class\") # return classification labels\n",
    "                            \n",
    "# Calculate the confusion matrix for the random forest\n",
    "confusionMatrix(data =rf_prediction,       # predicted classes\n",
    "                        reference = myTesting$classe)  # actual classes"
   ]
  },
  {
   "cell_type": "markdown",
   "metadata": {},
   "source": [
    "# Accuracy:\n",
    "### Tree Model: 0.7373 \n",
    "### Bagging Model: 0.9964 \n",
    "### Random Forest Model: 0.9978 "
   ]
  },
  {
   "cell_type": "code",
   "execution_count": 40,
   "metadata": {},
   "outputs": [],
   "source": [
    "# Random Forest Model yields very good results!"
   ]
  },
  {
   "cell_type": "markdown",
   "metadata": {},
   "source": [
    "# Predicting on the Testing Data"
   ]
  },
  {
   "cell_type": "markdown",
   "metadata": {},
   "source": [
    "## Prediction on the Bagging model"
   ]
  },
  {
   "cell_type": "code",
   "execution_count": 41,
   "metadata": {},
   "outputs": [
    {
     "data": {
      "text/html": [
       "<style>\n",
       ".list-inline {list-style: none; margin:0; padding: 0}\n",
       ".list-inline>li {display: inline-block}\n",
       ".list-inline>li:not(:last-child)::after {content: \"\\00b7\"; padding: 0 .5ex}\n",
       "</style>\n",
       "<ol class=list-inline><li>B</li><li>A</li><li>B</li><li>A</li><li>A</li><li>E</li><li>D</li><li>B</li><li>A</li><li>A</li><li>B</li><li>C</li><li>B</li><li>A</li><li>E</li><li>E</li><li>A</li><li>B</li><li>B</li><li>B</li></ol>\n",
       "\n",
       "<details>\n",
       "\t<summary style=display:list-item;cursor:pointer>\n",
       "\t\t<strong>Levels</strong>:\n",
       "\t</summary>\n",
       "\t<style>\n",
       "\t.list-inline {list-style: none; margin:0; padding: 0}\n",
       "\t.list-inline>li {display: inline-block}\n",
       "\t.list-inline>li:not(:last-child)::after {content: \"\\00b7\"; padding: 0 .5ex}\n",
       "\t</style>\n",
       "\t<ol class=list-inline><li>'A'</li><li>'B'</li><li>'C'</li><li>'D'</li><li>'E'</li></ol>\n",
       "</details>"
      ],
      "text/latex": [
       "\\begin{enumerate*}\n",
       "\\item B\n",
       "\\item A\n",
       "\\item B\n",
       "\\item A\n",
       "\\item A\n",
       "\\item E\n",
       "\\item D\n",
       "\\item B\n",
       "\\item A\n",
       "\\item A\n",
       "\\item B\n",
       "\\item C\n",
       "\\item B\n",
       "\\item A\n",
       "\\item E\n",
       "\\item E\n",
       "\\item A\n",
       "\\item B\n",
       "\\item B\n",
       "\\item B\n",
       "\\end{enumerate*}\n",
       "\n",
       "\\emph{Levels}: \\begin{enumerate*}\n",
       "\\item 'A'\n",
       "\\item 'B'\n",
       "\\item 'C'\n",
       "\\item 'D'\n",
       "\\item 'E'\n",
       "\\end{enumerate*}\n"
      ],
      "text/markdown": [
       "1. B\n",
       "2. A\n",
       "3. B\n",
       "4. A\n",
       "5. A\n",
       "6. E\n",
       "7. D\n",
       "8. B\n",
       "9. A\n",
       "10. A\n",
       "11. B\n",
       "12. C\n",
       "13. B\n",
       "14. A\n",
       "15. E\n",
       "16. E\n",
       "17. A\n",
       "18. B\n",
       "19. B\n",
       "20. B\n",
       "\n",
       "\n",
       "\n",
       "**Levels**: 1. 'A'\n",
       "2. 'B'\n",
       "3. 'C'\n",
       "4. 'D'\n",
       "5. 'E'\n",
       "\n",
       "\n"
      ],
      "text/plain": [
       " [1] B A B A A E D B A A B C B A E E A B B B\n",
       "Levels: A B C D E"
      ]
     },
     "metadata": {},
     "output_type": "display_data"
    }
   ],
   "source": [
    "# Generate predicted classes using the bagging\n",
    "b_prediction <- predict(object = b_model,    \n",
    "                              newdata = testing,  \n",
    "                            type = \"class\")  # return classification labels\n",
    "b_prediction"
   ]
  },
  {
   "cell_type": "markdown",
   "metadata": {},
   "source": [
    "# Prediction on the random forest model"
   ]
  },
  {
   "cell_type": "code",
   "execution_count": 42,
   "metadata": {},
   "outputs": [
    {
     "data": {
      "text/html": [
       "<style>\n",
       ".dl-inline {width: auto; margin:0; padding: 0}\n",
       ".dl-inline>dt, .dl-inline>dd {float: none; width: auto; display: inline-block}\n",
       ".dl-inline>dt::after {content: \":\\0020\"; padding-right: .5ex}\n",
       ".dl-inline>dt:not(:first-of-type) {padding-left: .5ex}\n",
       "</style><dl class=dl-inline><dt>1</dt><dd>B</dd><dt>2</dt><dd>A</dd><dt>3</dt><dd>B</dd><dt>4</dt><dd>A</dd><dt>5</dt><dd>A</dd><dt>6</dt><dd>E</dd><dt>7</dt><dd>D</dd><dt>8</dt><dd>B</dd><dt>9</dt><dd>A</dd><dt>10</dt><dd>A</dd><dt>11</dt><dd>B</dd><dt>12</dt><dd>C</dd><dt>13</dt><dd>B</dd><dt>14</dt><dd>A</dd><dt>15</dt><dd>E</dd><dt>16</dt><dd>E</dd><dt>17</dt><dd>A</dd><dt>18</dt><dd>B</dd><dt>19</dt><dd>B</dd><dt>20</dt><dd>B</dd></dl>\n",
       "\n",
       "<details>\n",
       "\t<summary style=display:list-item;cursor:pointer>\n",
       "\t\t<strong>Levels</strong>:\n",
       "\t</summary>\n",
       "\t<style>\n",
       "\t.list-inline {list-style: none; margin:0; padding: 0}\n",
       "\t.list-inline>li {display: inline-block}\n",
       "\t.list-inline>li:not(:last-child)::after {content: \"\\00b7\"; padding: 0 .5ex}\n",
       "\t</style>\n",
       "\t<ol class=list-inline><li>'A'</li><li>'B'</li><li>'C'</li><li>'D'</li><li>'E'</li></ol>\n",
       "</details>"
      ],
      "text/latex": [
       "\\begin{description*}\n",
       "\\item[1] B\n",
       "\\item[2] A\n",
       "\\item[3] B\n",
       "\\item[4] A\n",
       "\\item[5] A\n",
       "\\item[6] E\n",
       "\\item[7] D\n",
       "\\item[8] B\n",
       "\\item[9] A\n",
       "\\item[10] A\n",
       "\\item[11] B\n",
       "\\item[12] C\n",
       "\\item[13] B\n",
       "\\item[14] A\n",
       "\\item[15] E\n",
       "\\item[16] E\n",
       "\\item[17] A\n",
       "\\item[18] B\n",
       "\\item[19] B\n",
       "\\item[20] B\n",
       "\\end{description*}\n",
       "\n",
       "\\emph{Levels}: \\begin{enumerate*}\n",
       "\\item 'A'\n",
       "\\item 'B'\n",
       "\\item 'C'\n",
       "\\item 'D'\n",
       "\\item 'E'\n",
       "\\end{enumerate*}\n"
      ],
      "text/markdown": [
       "1\n",
       ":   B2\n",
       ":   A3\n",
       ":   B4\n",
       ":   A5\n",
       ":   A6\n",
       ":   E7\n",
       ":   D8\n",
       ":   B9\n",
       ":   A10\n",
       ":   A11\n",
       ":   B12\n",
       ":   C13\n",
       ":   B14\n",
       ":   A15\n",
       ":   E16\n",
       ":   E17\n",
       ":   A18\n",
       ":   B19\n",
       ":   B20\n",
       ":   B\n",
       "\n",
       "\n",
       "**Levels**: 1. 'A'\n",
       "2. 'B'\n",
       "3. 'C'\n",
       "4. 'D'\n",
       "5. 'E'\n",
       "\n",
       "\n"
      ],
      "text/plain": [
       " 1  2  3  4  5  6  7  8  9 10 11 12 13 14 15 16 17 18 19 20 \n",
       " B  A  B  A  A  E  D  B  A  A  B  C  B  A  E  E  A  B  B  B \n",
       "Levels: A B C D E"
      ]
     },
     "metadata": {},
     "output_type": "display_data"
    }
   ],
   "source": [
    "# Generate predicted classes using the model object\n",
    "rf_prediction <- predict(object = rf_model,   # model object \n",
    "                              newdata = testing,  # test dataset\n",
    "                              type = \"class\") # return classification labels\n",
    "rf_prediction"
   ]
  },
  {
   "cell_type": "code",
   "execution_count": null,
   "metadata": {},
   "outputs": [],
   "source": []
  }
 ],
 "metadata": {
  "kernelspec": {
   "display_name": "R",
   "language": "R",
   "name": "ir"
  },
  "language_info": {
   "codemirror_mode": "r",
   "file_extension": ".r",
   "mimetype": "text/x-r-source",
   "name": "R",
   "pygments_lexer": "r",
   "version": "3.6.1"
  }
 },
 "nbformat": 4,
 "nbformat_minor": 2
}
